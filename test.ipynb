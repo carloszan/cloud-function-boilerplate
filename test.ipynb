{
 "cells": [
  {
   "cell_type": "code",
   "execution_count": 2,
   "metadata": {},
   "outputs": [
    {
     "name": "stdout",
     "output_type": "stream",
     "text": [
      "('what about now?', 'what time is it', {'hi': 'hello'})\n",
      "{'hi': True}\n"
     ]
    }
   ],
   "source": [
    "from typing import Any\n",
    "class BatchInsertPeopleService:\n",
    "    def __call__(self, *args: Any, **kwds: Any) -> Any:\n",
    "      print(args)\n",
    "      print(kwds)\n",
    "\n",
    "obj = BatchInsertPeopleService()\n",
    "\n",
    "obj('what about now?', 'what time is it', {'hi': 'hello'}, hi=True)"
   ]
  }
 ],
 "metadata": {
  "kernelspec": {
   "display_name": ".env",
   "language": "python",
   "name": "python3"
  },
  "language_info": {
   "codemirror_mode": {
    "name": "ipython",
    "version": 3
   },
   "file_extension": ".py",
   "mimetype": "text/x-python",
   "name": "python",
   "nbconvert_exporter": "python",
   "pygments_lexer": "ipython3",
   "version": "3.11.6"
  }
 },
 "nbformat": 4,
 "nbformat_minor": 2
}
